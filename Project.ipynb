{
 "cells": [
  {
   "cell_type": "code",
   "execution_count": 3,
   "metadata": {},
   "outputs": [
    {
     "output_type": "error",
     "ename": "ModuleNotFoundError",
     "evalue": "No module named &#39;numpuy&#39;",
     "traceback": [
      "\u001b[0;31m---------------------------------------------------------------------------\u001b[0m",
      "\u001b[0;31mModuleNotFoundError\u001b[0m                       Traceback (most recent call last)",
      "\u001b[0;32m&lt;ipython-input-3-dffb0d0c0c98&gt;\u001b[0m in \u001b[0;36m&lt;module&gt;\u001b[0;34m\u001b[0m\n\u001b[1;32m      1\u001b[0m \u001b[0;32mfrom\u001b[0m \u001b[0mPreprocess\u001b[0m \u001b[0;32mimport\u001b[0m \u001b[0;34m*\u001b[0m\u001b[0;34m\u001b[0m\u001b[0;34m\u001b[0m\u001b[0m\n\u001b[0;32m----&gt; 2\u001b[0;31m \u001b[0;32mfrom\u001b[0m \u001b[0mModel\u001b[0m \u001b[0;32mimport\u001b[0m \u001b[0;34m*\u001b[0m\u001b[0;34m\u001b[0m\u001b[0;34m\u001b[0m\u001b[0m\n\u001b[0m\u001b[1;32m      3\u001b[0m \u001b[0;32mfrom\u001b[0m \u001b[0mFeatureEng\u001b[0m \u001b[0;32mimport\u001b[0m \u001b[0;34m*\u001b[0m\u001b[0;34m\u001b[0m\u001b[0;34m\u001b[0m\u001b[0m\n",
      "\u001b[0;32m~/FEUP/ECAC/FEUP_ECAC/Model.py\u001b[0m in \u001b[0;36m&lt;module&gt;\u001b[0;34m\u001b[0m\n\u001b[1;32m      2\u001b[0m \u001b[0;32mimport\u001b[0m \u001b[0msklearn\u001b[0m \u001b[0;32mas\u001b[0m \u001b[0msk\u001b[0m\u001b[0;34m\u001b[0m\u001b[0;34m\u001b[0m\u001b[0m\n\u001b[1;32m      3\u001b[0m \u001b[0;32mimport\u001b[0m \u001b[0mseaborn\u001b[0m \u001b[0;32mas\u001b[0m \u001b[0msns\u001b[0m\u001b[0;34m\u001b[0m\u001b[0;34m\u001b[0m\u001b[0m\n\u001b[0;32m----&gt; 4\u001b[0;31m \u001b[0;32mimport\u001b[0m \u001b[0mnumpuy\u001b[0m \u001b[0;32mas\u001b[0m \u001b[0mnp\u001b[0m\u001b[0;34m\u001b[0m\u001b[0;34m\u001b[0m\u001b[0m\n\u001b[0m\u001b[1;32m      5\u001b[0m \u001b[0;34m\u001b[0m\u001b[0m\n\u001b[1;32m      6\u001b[0m \u001b[0;32mglobal\u001b[0m \u001b[0mmodels_mean_scores\u001b[0m\u001b[0;34m\u001b[0m\u001b[0;34m\u001b[0m\u001b[0m\n",
      "\u001b[0;31mModuleNotFoundError\u001b[0m: No module named &#39;numpuy&#39;"
     ]
    }
   ],
   "source": [
    "from Preprocess import *\n",
    "from Model import *\n",
    "from FeatureEng import *"
   ]
  },
  {
   "cell_type": "markdown",
   "metadata": {},
   "source": [
    "# Account\n",
    "- account_id\n",
    "- district_id\n",
    "- date\n",
    "- frequency\n",
    "\n",
    "# Client\n",
    "- client_id\n",
    "- birth_number\n",
    "- district_id\n",
    "\n",
    "# Disposition\n",
    "- disp_id\n",
    "- client_id\n",
    "- account_id\n",
    "- type\n",
    "\n",
    "# Loan\n",
    "- loan_id\n",
    "- account_id\n",
    "- date\n",
    "- amount\n",
    "- duration\n",
    "- payments\n",
    "- status\n",
    "\n",
    "# Transition\n",
    "- trans_id\n",
    "- account_id\n",
    "- date\n",
    "- type\n",
    "- operation\n",
    "- amount_balance\n",
    "- k_symbol\n",
    "- bank\n",
    "- account"
   ]
  },
  {
   "cell_type": "code",
   "execution_count": null,
   "metadata": {},
   "outputs": [],
   "source": [
    "dic_csv = read_data()\n",
    "df_var = make_dataframe(dic_csv)\n",
    "\n"
   ]
  },
  {
   "cell_type": "code",
   "execution_count": 5,
   "metadata": {},
   "outputs": [
    {
     "output_type": "execute_result",
     "data": {
      "text/plain": "{&#39;client&#39;:       client_id  birth_number  district_id\n 0             1        706213           18\n 1             2        450204            1\n 2             3        406009            1\n 3             4        561201            5\n 4             5        605703            5\n ...         ...           ...          ...\n 5364      13955        456030            1\n 5365      13956        430406            1\n 5366      13968        680413           61\n 5367      13971        626019           67\n 5368      13998        535812           74\n \n [5369 rows x 3 columns],\n &#39;account&#39;:       account_id  district_id         frequency    date\n 0            576           55  monthly issuance  930101\n 1           3818           74  monthly issuance  930101\n 2            704           55  monthly issuance  930101\n 3           2378           16  monthly issuance  930101\n 4           2632           24  monthly issuance  930102\n ...          ...          ...               ...     ...\n 4495         124           55  monthly issuance  971228\n 4496        3958           59  monthly issuance  971228\n 4497         777           30  monthly issuance  971228\n 4498        1573           63  monthly issuance  971229\n 4499        3276            1  monthly issuance  971229\n \n [4500 rows x 4 columns],\n &#39;trans_train&#39;:         trans_id  account_id    date        type  \\\n 0        1548749        5270  930113      credit   \n 1        1548750        5270  930114      credit   \n 2        3393738       11265  930114      credit   \n 3        3122924       10364  930117      credit   \n 4        1121963        3834  930119      credit   \n ...          ...         ...     ...         ...   \n 396680    515914        1763  961231  withdrawal   \n 396681    516262        1765  961231  withdrawal   \n 396682    520019        1775  961231  withdrawal   \n 396683    517894        1769  961231  withdrawal   \n 396684    518239        1770  961231  withdrawal   \n \n                            operation   amount  balance               k_symbol  \\\n 0                     credit in cash    800.0    800.0                    NaN   \n 1       collection from another bank  44749.0  45549.0                    NaN   \n 2                     credit in cash   1000.0   1000.0                    NaN   \n 3                     credit in cash   1100.0   1100.0                    NaN   \n 4                     credit in cash    700.0    700.0                    NaN   \n ...                              ...      ...      ...                    ...   \n 396680            withdrawal in cash     14.6  67769.5  payment for statement   \n 396681            withdrawal in cash     14.6  19708.1  payment for statement   \n 396682            withdrawal in cash     14.6  15944.5  payment for statement   \n 396683            withdrawal in cash     14.6  34679.4  payment for statement   \n 396684            withdrawal in cash     14.6  68162.9  payment for statement   \n \n        bank     account  \n 0       NaN         NaN  \n 1        IJ  80269753.0  \n 2       NaN         NaN  \n 3       NaN         NaN  \n 4       NaN         NaN  \n ...     ...         ...  \n 396680  NaN         NaN  \n 396681  NaN         NaN  \n 396682  NaN         NaN  \n 396683  NaN         NaN  \n 396684  NaN         NaN  \n \n [396685 rows x 10 columns],\n &#39;trans_test&#39;:        trans_id  account_id    date                type           operation  \\\n 0          6145          25  960728              credit      credit in cash   \n 1          6456          25  960827              credit      credit in cash   \n 2          6150          25  960903              credit      credit in cash   \n 3          6171          25  960905              credit      credit in cash   \n 4          6457          25  960906          withdrawal  withdrawal in cash   \n ...         ...         ...     ...                 ...                 ...   \n 30195   3412692       11328  980630  withdrawal in cash  withdrawal in cash   \n 30196   3412768       11328  980630          withdrawal  withdrawal in cash   \n 30197   3529532       11328  980630              credit                 NaN   \n 30198   3412694       11328  980703  withdrawal in cash  withdrawal in cash   \n 30199   3412636       11328  980709              credit      credit in cash   \n \n         amount  balance               k_symbol bank  account  \n 0        900.0    900.0                    NaN  NaN      NaN  \n 1      15800.0  16700.0                    NaN  NaN      NaN  \n 2      13067.0  29767.0                    NaN  NaN      NaN  \n 3      42054.0  71821.0                    NaN  NaN      NaN  \n 4      36000.0  77580.0                    NaN  NaN      NaN  \n ...        ...      ...                    ...  ...      ...  \n 30195  11831.0  28779.8                    NaN  NaN      NaN  \n 30196     14.6  28765.2  payment for statement  NaN      NaN  \n 30197    188.7  40610.8      interest credited  NaN      NaN  \n 30198   8383.0  20382.2                    NaN  NaN      NaN  \n 30199  10921.0  31303.2                    NaN  NaN      NaN  \n \n [30200 rows x 10 columns],\n &#39;loan_test&#39;:      loan_id  account_id    date  amount  duration  payments  status\n 0       5895        4473  970103   93960        60      1566     NaN\n 1       7122       10365  970104  260640        36      7240     NaN\n 2       6173        5724  970108  232560        48      4845     NaN\n 3       6142        5591  970121  221880        60      3698     NaN\n 4       5358        2018  970121   38520        12      3210     NaN\n ..       ...         ...     ...     ...       ...       ...     ...\n 349     4989         105  981205  352704        48      7348     NaN\n 350     5221        1284  981205   52512        12      4376     NaN\n 351     6402        6922  981206  139488        24      5812     NaN\n 352     5346        1928  981206   55632        24      2318     NaN\n 353     6748        8645  981208  240900        60      4015     NaN\n \n [354 rows x 7 columns],\n &#39;disp&#39;:       disp_id  client_id  account_id       type\n 0           1          1           1      OWNER\n 1           2          2           2      OWNER\n 2           3          3           2  DISPONENT\n 3           4          4           3      OWNER\n 4           5          5           3  DISPONENT\n ...       ...        ...         ...        ...\n 5364    13647      13955       11349      OWNER\n 5365    13648      13956       11349  DISPONENT\n 5366    13660      13968       11359      OWNER\n 5367    13663      13971       11362      OWNER\n 5368    13690      13998       11382      OWNER\n \n [5369 rows x 4 columns],\n &#39;district&#39;:     code             name           region  no. of inhabitants  \\\n 0      1      Hl.m. Praha           Prague             1204953   \n 1      2          Benesov  central Bohemia               88884   \n 2      3           Beroun  central Bohemia               75232   \n 3      4           Kladno  central Bohemia              149893   \n 4      5            Kolin  central Bohemia               95616   \n ..   ...              ...              ...                 ...   \n 72    73            Opava    north Moravia              182027   \n 73    74  Ostrava - mesto    north Moravia              323870   \n 74    75           Prerov    north Moravia              138032   \n 75    76          Sumperk    north Moravia              127369   \n 76    77           Vsetin    north Moravia              148545   \n \n     no. of municipalities with inhabitants &lt; 499   \\\n 0                                               0   \n 1                                              80   \n 2                                              55   \n 3                                              63   \n 4                                              65   \n ..                                            ...   \n 72                                             17   \n 73                                              0   \n 74                                             67   \n 75                                             31   \n 76                                              8   \n \n     no. of municipalities with inhabitants 500-1999  \\\n 0                                                 0   \n 1                                                26   \n 2                                                26   \n 3                                                29   \n 4                                                30   \n ..                                              ...   \n 72                                               49   \n 73                                                0   \n 74                                               30   \n 75                                               32   \n 76                                               35   \n \n     no. of municipalities with inhabitants 2000-9999   \\\n 0                                                   0   \n 1                                                   6   \n 2                                                   4   \n 3                                                   6   \n 4                                                   4   \n ..                                                ...   \n 72                                                 12   \n 73                                                  0   \n 74                                                  4   \n 75                                                 13   \n 76                                                 12   \n \n     no. of municipalities with inhabitants &gt;10000   no. of cities   \\\n 0                                                1               1   \n 1                                                2               5   \n 2                                                1               5   \n 3                                                2               6   \n 4                                                1               6   \n ..                                             ...             ...   \n 72                                               2               7   \n 73                                               1               1   \n 74                                               2               5   \n 75                                               2               7   \n 76                                               3               4   \n \n     ratio of urban inhabitants   average salary  unemploymant rate &#39;95   \\\n 0                         100.0            12541                   0.29   \n 1                          46.7             8507                   1.67   \n 2                          41.7             8980                   1.95   \n 3                          67.4             9753                   4.64   \n 4                          51.4             9307                   3.85   \n ..                          ...              ...                    ...   \n 72                         56.4             8746                   3.33   \n 73                        100.0            10673                   4.75   \n 74                         64.6             8819                   5.38   \n 75                         51.2             8369                   4.73   \n 76                         53.5             8909                   4.01   \n \n     unemploymant rate &#39;96   no. of enterpreneurs per 1000 inhabitants   \\\n 0                     0.43                                         167   \n 1                     1.85                                         132   \n 2                     2.21                                         111   \n 3                     5.05                                         109   \n 4                     4.43                                         118   \n ..                     ...                                         ...   \n 72                    3.74                                          90   \n 73                    5.44                                         100   \n 74                    5.66                                          99   \n 75                    5.88                                         107   \n 76                    5.56                                         113   \n \n    no. of commited crimes &#39;95   no. of commited crimes &#39;96   \n 0                        85677                        99107  \n 1                         2159                         2674  \n 2                         2824                         2813  \n 3                         5244                         5892  \n 4                         2616                         3040  \n ..                         ...                          ...  \n 72                        4355                         4433  \n 73                       18782                        18347  \n 74                        4063                         4505  \n 75                        3736                         2807  \n 76                        3460                         3590  \n \n [77 rows x 16 columns],\n &#39;card_test&#39;:     card_id  disp_id     type  issued\n 0       813     5873   junior  961028\n 1      1014     9452  classic  961102\n 2       408     2560  classic  961210\n 3      1118    11393  classic  970102\n 4       565     3601     gold  970106\n 5      1173    12442  classic  970508\n 6       847     6610  classic  970520\n 7      1178    12542  classic  970619\n 8       280     1793  classic  970622\n 9      1138    11825  classic  970629\n 10      511     3257   junior  970806\n 11      140      798  classic  970822\n 12      355     2267  classic  970828\n 13     1115    11375   junior  971003\n 14      436     2759  classic  971009\n 15       45      272  classic  971205\n 16      891     7434  classic  971223\n 17      434     2739  classic  971230\n 18      517     3291  classic  980109\n 19      965     8636  classic  980402\n 20     1194    12781   junior  980430\n 21       17      127  classic  980607\n 22      623     3984  classic  980725\n 23      923     7855  classic  980924\n 24       53      333  classic  981013,\n &#39;loan_train&#39;:      loan_id  account_id    date  amount  duration  payments  status\n 0       5314        1787  930705   96396        12      8033      -1\n 1       5316        1801  930711  165960        36      4610       1\n 2       6863        9188  930728  127080        60      2118       1\n 3       5325        1843  930803  105804        36      2939       1\n 4       7240       11013  930906  274740        60      4579       1\n ..       ...         ...     ...     ...       ...       ...     ...\n 323     6818        9030  961212  155616        48      3242       1\n 324     5625        3189  961215  222180        60      3703      -1\n 325     6805        8972  961221   45024        48       938       1\n 326     7233       10963  961225  115812        36      3217       1\n 327     7308       11362  961227  129408        24      5392       1\n \n [328 rows x 7 columns],\n &#39;card_train&#39;:      card_id  disp_id     type  issued\n 0       1005     9285  classic  931107\n 1        104      588  classic  940119\n 2        747     4915  classic  940205\n 3         70      439  classic  940208\n 4        577     3687  classic  940215\n ..       ...      ...      ...     ...\n 172      243     1478  classic  961213\n 173      162      967   junior  961223\n 174      594     3794   junior  961227\n 175      609     3893  classic  961229\n 176      786     5478  classic  961231\n \n [177 rows x 4 columns]}"
     },
     "metadata": {},
     "execution_count": 5
    }
   ],
   "source": [
    "df_var"
   ]
  },
  {
   "cell_type": "code",
   "execution_count": null,
   "metadata": {},
   "outputs": [],
   "source": []
  }
 ],
 "metadata": {
  "kernelspec": {
   "display_name": "Python 3",
   "language": "python",
   "name": "python3"
  },
  "language_info": {
   "codemirror_mode": {
    "name": "ipython",
    "version": 3
   },
   "file_extension": ".py",
   "mimetype": "text/x-python",
   "name": "python",
   "nbconvert_exporter": "python",
   "pygments_lexer": "ipython3",
   "version": "3.8.5-final"
  }
 },
 "nbformat": 4,
 "nbformat_minor": 4
}