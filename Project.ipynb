{
 "cells": [
  {
   "cell_type": "code",
   "execution_count": 2,
   "metadata": {},
   "outputs": [],
   "source": [
    "import pandas as pd\n",
    "import numpy as np\n",
    "import matplotlib.pyplot as plt\n",
    "import warnings\n",
    "import seaborn as sns"
   ]
  },
  {
   "cell_type": "code",
   "execution_count": 3,
   "metadata": {},
   "outputs": [],
   "source": [
    "account = pd.read_csv('data/account.csv')\n",
    "card_test = pd.read_csv('data/card_test.csv')\n",
    "card_train = pd.read_csv('data/card_train.csv')\n",
    "client = pd.read_csv('data/client.csv')\n",
    "disp = pd.read_csv('data/disp.csv')\n",
    "district = pd.read_csv('data/district.csv')\n",
    "loan_test = pd.read_csv('data/loan_test.csv')\n",
    "loan_train = pd.read_csv('data/loan_train.csv')\n",
    "trans_test = pd.read_csv('data/trans_test.csv')\n",
    "trans_train = pd.read_csv('data/trans_train.csv')\n"
   ]
  },
  {
   "cell_type": "markdown",
   "metadata": {},
   "source": [
    "# Account\n",
    "- accound_id\n",
    "- district_id\n",
    "- date\n",
    "- frequency\n",
    "\n",
    "# Client\n",
    "- client_id\n",
    "- birth_number\n",
    "- district_id\n",
    "\n",
    "# Disposition\n",
    "- disp_id\n",
    "- client_id\n",
    "- account_id\n",
    "- type\n",
    "\n",
    "# Loan\n",
    "- loan_id\n",
    "- account_id\n",
    "- date\n",
    "- amount\n",
    "- duration\n",
    "- payments\n",
    "- status\n",
    "\n",
    "# Transition\n",
    "- trans_id\n",
    "- account_id\n",
    "- date\n",
    "- type\n",
    "- operation\n",
    "- amount_balance\n",
    "- k_symbol\n",
    "- bank\n",
    "- account"
   ]
  },
  {
   "cell_type": "code",
   "execution_count": 16,
   "metadata": {},
   "outputs": [
    {
     "data": {
      "text/html": [
       "<div>\n",
       "<style scoped>\n",
       "    .dataframe tbody tr th:only-of-type {\n",
       "        vertical-align: middle;\n",
       "    }\n",
       "\n",
       "    .dataframe tbody tr th {\n",
       "        vertical-align: top;\n",
       "    }\n",
       "\n",
       "    .dataframe thead th {\n",
       "        text-align: right;\n",
       "    }\n",
       "</style>\n",
       "<table border=\"1\" class=\"dataframe\">\n",
       "  <thead>\n",
       "    <tr style=\"text-align: right;\">\n",
       "      <th></th>\n",
       "      <th>trans_id;account_id;date;type;operation;amount;balance;k_symbol;bank;account</th>\n",
       "    </tr>\n",
       "  </thead>\n",
       "  <tbody>\n",
       "    <tr>\n",
       "      <th>0</th>\n",
       "      <td>6145;25;960728;credit;credit in cash;900.00;90...</td>\n",
       "    </tr>\n",
       "    <tr>\n",
       "      <th>1</th>\n",
       "      <td>6456;25;960827;credit;credit in cash;15800.00;...</td>\n",
       "    </tr>\n",
       "    <tr>\n",
       "      <th>2</th>\n",
       "      <td>6150;25;960903;credit;credit in cash;13067.00;...</td>\n",
       "    </tr>\n",
       "    <tr>\n",
       "      <th>3</th>\n",
       "      <td>6171;25;960905;credit;credit in cash;42054.00;...</td>\n",
       "    </tr>\n",
       "    <tr>\n",
       "      <th>4</th>\n",
       "      <td>6457;25;960906;withdrawal;withdrawal in cash;3...</td>\n",
       "    </tr>\n",
       "    <tr>\n",
       "      <th>...</th>\n",
       "      <td>...</td>\n",
       "    </tr>\n",
       "    <tr>\n",
       "      <th>30195</th>\n",
       "      <td>3412692;11328;980630;withdrawal in cash;withdr...</td>\n",
       "    </tr>\n",
       "    <tr>\n",
       "      <th>30196</th>\n",
       "      <td>3412768;11328;980630;withdrawal;withdrawal in ...</td>\n",
       "    </tr>\n",
       "    <tr>\n",
       "      <th>30197</th>\n",
       "      <td>3529532;11328;980630;credit;;188.70;40610.80;i...</td>\n",
       "    </tr>\n",
       "    <tr>\n",
       "      <th>30198</th>\n",
       "      <td>3412694;11328;980703;withdrawal in cash;withdr...</td>\n",
       "    </tr>\n",
       "    <tr>\n",
       "      <th>30199</th>\n",
       "      <td>3412636;11328;980709;credit;credit in cash;109...</td>\n",
       "    </tr>\n",
       "  </tbody>\n",
       "</table>\n",
       "<p>30200 rows × 1 columns</p>\n",
       "</div>"
      ],
      "text/plain": [
       "      trans_id;account_id;date;type;operation;amount;balance;k_symbol;bank;account\n",
       "0      6145;25;960728;credit;credit in cash;900.00;90...                          \n",
       "1      6456;25;960827;credit;credit in cash;15800.00;...                          \n",
       "2      6150;25;960903;credit;credit in cash;13067.00;...                          \n",
       "3      6171;25;960905;credit;credit in cash;42054.00;...                          \n",
       "4      6457;25;960906;withdrawal;withdrawal in cash;3...                          \n",
       "...                                                  ...                          \n",
       "30195  3412692;11328;980630;withdrawal in cash;withdr...                          \n",
       "30196  3412768;11328;980630;withdrawal;withdrawal in ...                          \n",
       "30197  3529532;11328;980630;credit;;188.70;40610.80;i...                          \n",
       "30198  3412694;11328;980703;withdrawal in cash;withdr...                          \n",
       "30199  3412636;11328;980709;credit;credit in cash;109...                          \n",
       "\n",
       "[30200 rows x 1 columns]"
      ]
     },
     "execution_count": 16,
     "metadata": {},
     "output_type": "execute_result"
    }
   ],
   "source": [
    "trans_test"
   ]
  },
  {
   "cell_type": "code",
   "execution_count": 13,
   "metadata": {},
   "outputs": [
    {
     "data": {
      "text/plain": [
       "328"
      ]
     },
     "execution_count": 13,
     "metadata": {},
     "output_type": "execute_result"
    }
   ],
   "source": [
    "len(loan_train)"
   ]
  },
  {
   "cell_type": "code",
   "execution_count": null,
   "metadata": {},
   "outputs": [],
   "source": []
  }
 ],
 "metadata": {
  "kernelspec": {
   "display_name": "Python 3",
   "language": "python",
   "name": "python3"
  },
  "language_info": {
   "codemirror_mode": {
    "name": "ipython",
    "version": 3
   },
   "file_extension": ".py",
   "mimetype": "text/x-python",
   "name": "python",
   "nbconvert_exporter": "python",
   "pygments_lexer": "ipython3",
   "version": "3.8.5"
  }
 },
 "nbformat": 4,
 "nbformat_minor": 4
}
