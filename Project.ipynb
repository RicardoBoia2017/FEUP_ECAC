{
 "cells": [
  {
   "cell_type": "code",
   "execution_count": 6,
   "metadata": {},
   "outputs": [],
   "source": [
    "from Preprocess import *\n",
    "from Model import *\n",
    "from FeatureEng import *"
   ]
  },
  {
   "cell_type": "markdown",
   "metadata": {},
   "source": [
    "# Account\n",
    "- account_id\n",
    "- district_id\n",
    "- date\n",
    "- frequency\n",
    "\n",
    "# Client\n",
    "- client_id\n",
    "- birth_number\n",
    "- district_id\n",
    "\n",
    "# Disposition\n",
    "- disp_id\n",
    "- client_id\n",
    "- account_id\n",
    "- type\n",
    "\n",
    "# Loan\n",
    "- loan_id\n",
    "- account_id\n",
    "- date\n",
    "- amount\n",
    "- duration\n",
    "- payments\n",
    "- status\n",
    "\n",
    "# Transition\n",
    "- trans_id\n",
    "- account_id\n",
    "- date\n",
    "- type\n",
    "- operation\n",
    "- amount_balance\n",
    "- k_symbol\n",
    "- bank\n",
    "- account"
   ]
  },
  {
   "cell_type": "code",
   "execution_count": 7,
   "metadata": {},
   "outputs": [],
   "source": [
    "read_data()\n",
    "make_dataframe(dic_csv)\n",
    "\n"
   ]
  }
 ],
 "metadata": {
  "kernelspec": {
   "display_name": "Python 3",
   "language": "python",
   "name": "python3"
  },
  "language_info": {
   "codemirror_mode": {
    "name": "ipython",
    "version": 3
   },
   "file_extension": ".py",
   "mimetype": "text/x-python",
   "name": "python",
   "nbconvert_exporter": "python",
   "pygments_lexer": "ipython3",
   "version": "3.8.5-final"
  }
 },
 "nbformat": 4,
 "nbformat_minor": 4
}