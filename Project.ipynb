{
 "cells": [
  {
   "cell_type": "code",
   "execution_count": null,
   "metadata": {},
   "outputs": [],
   "source": [
    "from Preprocess import *\n",
    "from Model import *\n",
    "from DataAnalysis import *"
   ]
  },
  {
   "source": [
    "## Read data and make dictionary"
   ],
   "cell_type": "markdown",
   "metadata": {}
  },
  {
   "cell_type": "code",
   "execution_count": 1,
   "metadata": {},
   "outputs": [
    {
     "output_type": "error",
     "ename": "NameError",
     "evalue": "name &#39;read_data&#39; is not defined",
     "traceback": [
      "\u001b[0;31m---------------------------------------------------------------------------\u001b[0m",
      "\u001b[0;31mNameError\u001b[0m                                 Traceback (most recent call last)",
      "\u001b[0;32m&lt;ipython-input-1-c3286d648c93&gt;\u001b[0m in \u001b[0;36m&lt;module&gt;\u001b[0;34m\u001b[0m\n\u001b[0;32m----&gt; 1\u001b[0;31m \u001b[0mdic_csv\u001b[0m \u001b[0;34m=\u001b[0m \u001b[0mread_data\u001b[0m\u001b[0;34m(\u001b[0m\u001b[0;34m)\u001b[0m\u001b[0;34m\u001b[0m\u001b[0;34m\u001b[0m\u001b[0m\n\u001b[0m\u001b[1;32m      2\u001b[0m \u001b[0mdf_var\u001b[0m \u001b[0;34m=\u001b[0m \u001b[0mmake_dataframe\u001b[0m\u001b[0;34m(\u001b[0m\u001b[0mdic_csv\u001b[0m\u001b[0;34m)\u001b[0m\u001b[0;34m\u001b[0m\u001b[0;34m\u001b[0m\u001b[0m\n",
      "\u001b[0;31mNameError\u001b[0m: name &#39;read_data&#39; is not defined"
     ]
    }
   ],
   "source": [
    "dic_csv = read_data()\n",
    "df_var = make_dataframe(dic_csv)"
   ]
  },
  {
   "source": [
    "## Concat train and test\n",
    "## Merge all tables to use on Rapidminer"
   ],
   "cell_type": "markdown",
   "metadata": {}
  },
  {
   "cell_type": "code",
   "execution_count": 3,
   "metadata": {
    "tags": []
   },
   "outputs": [
    {
     "output_type": "error",
     "ename": "NameError",
     "evalue": "name &#39;dic_csv&#39; is not defined",
     "traceback": [
      "\u001b[0;31m---------------------------------------------------------------------------\u001b[0m",
      "\u001b[0;31mNameError\u001b[0m                                 Traceback (most recent call last)",
      "\u001b[0;32m&lt;ipython-input-3-66c0492c44cb&gt;\u001b[0m in \u001b[0;36m&lt;module&gt;\u001b[0;34m\u001b[0m\n\u001b[0;32m----&gt; 1\u001b[0;31m \u001b[0mconcat_train_test\u001b[0m\u001b[0;34m(\u001b[0m\u001b[0mdic_csv\u001b[0m\u001b[0;34m,\u001b[0m \u001b[0mdf_var\u001b[0m\u001b[0;34m)\u001b[0m\u001b[0;34m\u001b[0m\u001b[0;34m\u001b[0m\u001b[0m\n\u001b[0m\u001b[1;32m      2\u001b[0m \u001b[0mloans\u001b[0m \u001b[0;34m=\u001b[0m \u001b[0mMerge\u001b[0m\u001b[0;34m(\u001b[0m\u001b[0mdf_var\u001b[0m\u001b[0;34m,\u001b[0m \u001b[0mhaveCategorical\u001b[0m\u001b[0;34m=\u001b[0m\u001b[0;32mFalse\u001b[0m\u001b[0;34m)\u001b[0m\u001b[0;34m\u001b[0m\u001b[0;34m\u001b[0m\u001b[0m\n",
      "\u001b[0;31mNameError\u001b[0m: name &#39;dic_csv&#39; is not defined"
     ]
    }
   ],
   "source": [
    "concat_train_test(dic_csv, df_var)\n",
    "loans = Merge(df_var, haveCategorical=False)"
   ]
  },
  {
   "source": [
    "## Handle non numerica data to model correcly\n",
    "## Separate loans per year"
   ],
   "cell_type": "markdown",
   "metadata": {}
  },
  {
   "cell_type": "code",
   "execution_count": 4,
   "metadata": {
    "tags": []
   },
   "outputs": [],
   "source": [
    "handle_non_numeric_data(loans)\n",
    "original_loan_per_year = loan_per_year(loans, haveCategorical= False, isMerged = True)"
   ]
  },
  {
   "source": [
    "## Parameter Tunning"
   ],
   "cell_type": "markdown",
   "metadata": {}
  },
  {
   "source": [
    "### Decision Tree"
   ],
   "cell_type": "markdown",
   "metadata": {}
  },
  {
   "source": [
    "#### Year 1993"
   ],
   "cell_type": "markdown",
   "metadata": {}
  },
  {
   "cell_type": "code",
   "execution_count": 5,
   "metadata": {
    "tags": []
   },
   "outputs": [
    {
     "output_type": "stream",
     "name": "stdout",
     "text": "Fitting 10 folds for each of 1920 candidates, totalling 19200 fits\n[Parallel(n_jobs=-1)]: Using backend LokyBackend with 8 concurrent workers.\n[Parallel(n_jobs=-1)]: Done  25 tasks      | elapsed:    5.4s\n[Parallel(n_jobs=-1)]: Done 336 tasks      | elapsed:    8.3s\n[Parallel(n_jobs=-1)]: Done 1148 tasks      | elapsed:   13.7s\n[Parallel(n_jobs=-1)]: Done 2280 tasks      | elapsed:   21.2s\n[Parallel(n_jobs=-1)]: Done 3740 tasks      | elapsed:   30.8s\n[Parallel(n_jobs=-1)]: Done 5520 tasks      | elapsed:   42.6s\n[Parallel(n_jobs=-1)]: Done 7628 tasks      | elapsed:   56.7s\n[Parallel(n_jobs=-1)]: Done 10056 tasks      | elapsed:  1.2min\n[Parallel(n_jobs=-1)]: Done 12812 tasks      | elapsed:  1.5min\n[Parallel(n_jobs=-1)]: Done 15888 tasks      | elapsed:  1.9min\nBest Score: nan\nBest Parameters: {&#39;classification__class_weight&#39;: &#39;balanced&#39;, &#39;classification__criterion&#39;: &#39;gini&#39;, &#39;classification__max_depth&#39;: 2, &#39;classification__max_features&#39;: &#39;auto&#39;, &#39;classification__min_impurity_split&#39;: 0.05, &#39;classification__min_samples_leaf&#39;: 1, &#39;classification__min_samples_split&#39;: 2, &#39;classification__splitter&#39;: &#39;best&#39;}\n[Parallel(n_jobs=-1)]: Done 19200 out of 19200 | elapsed:  2.2min finished\n"
    }
   ],
   "source": [
    "df = original_loan_per_year[1993].copy()\n",
    "X = df.drop(columns=['status', 'loan_id', 'account_id', \"unemploymant rate '95 \", 'card_type', 'name', 'operation_n_credit_card_withdrawal'], axis=1)\n",
    "y = df['status'].copy()\n",
    "best_score, best_params = ClassifierDecisionTree(X, y)"
   ]
  },
  {
   "source": [
    "#### Year 1993-1994"
   ],
   "cell_type": "markdown",
   "metadata": {}
  },
  {
   "cell_type": "code",
   "execution_count": 6,
   "metadata": {
    "tags": []
   },
   "outputs": [
    {
     "output_type": "stream",
     "name": "stderr",
     "text": "[Parallel(n_jobs=-1)]: Using backend LokyBackend with 8 concurrent workers.\nFitting 10 folds for each of 1920 candidates, totalling 19200 fits\n[Parallel(n_jobs=-1)]: Done  34 tasks      | elapsed:    0.4s\n[Parallel(n_jobs=-1)]: Done 276 tasks      | elapsed:    2.6s\n[Parallel(n_jobs=-1)]: Done 682 tasks      | elapsed:    6.6s\n[Parallel(n_jobs=-1)]: Done 1248 tasks      | elapsed:   12.6s\n[Parallel(n_jobs=-1)]: Done 1978 tasks      | elapsed:   21.4s\n[Parallel(n_jobs=-1)]: Done 2868 tasks      | elapsed:   32.2s\n[Parallel(n_jobs=-1)]: Done 3922 tasks      | elapsed:   44.8s\n[Parallel(n_jobs=-1)]: Done 5136 tasks      | elapsed:   59.2s\n[Parallel(n_jobs=-1)]: Done 6514 tasks      | elapsed:  1.3min\n[Parallel(n_jobs=-1)]: Done 8052 tasks      | elapsed:  1.5min\n[Parallel(n_jobs=-1)]: Done 9754 tasks      | elapsed:  1.8min\n[Parallel(n_jobs=-1)]: Done 11616 tasks      | elapsed:  2.1min\n[Parallel(n_jobs=-1)]: Done 13642 tasks      | elapsed:  2.4min\n[Parallel(n_jobs=-1)]: Done 15828 tasks      | elapsed:  2.8min\nBest Score: nan\nBest Parameters: {&#39;classification__class_weight&#39;: &#39;balanced&#39;, &#39;classification__criterion&#39;: &#39;gini&#39;, &#39;classification__max_depth&#39;: 2, &#39;classification__max_features&#39;: &#39;auto&#39;, &#39;classification__min_impurity_split&#39;: 0.05, &#39;classification__min_samples_leaf&#39;: 1, &#39;classification__min_samples_split&#39;: 2, &#39;classification__splitter&#39;: &#39;best&#39;}\n[Parallel(n_jobs=-1)]: Done 19200 out of 19200 | elapsed:  3.2min finished\n"
    }
   ],
   "source": [
    "df = pd.concat([original_loan_per_year[1993].copy(),original_loan_per_year[1994].copy()])\n",
    "X = df.drop(columns=['status', 'loan_id', 'account_id', \"unemploymant rate '95 \", 'card_type', 'name', 'operation_n_credit_card_withdrawal'], axis=1)\n",
    "y = df['status'].copy()\n",
    "best_score, best_params = ClassifierDecisionTree(X, y)"
   ]
  },
  {
   "source": [
    "#### Year 1993-1995"
   ],
   "cell_type": "markdown",
   "metadata": {}
  },
  {
   "cell_type": "code",
   "execution_count": null,
   "metadata": {
    "tags": []
   },
   "outputs": [],
   "source": [
    "df = pd.concat([original_loan_per_year[1993].copy(),original_loan_per_year[1994].copy(),original_loan_per_year[1995]])\n",
    "X = df.drop(columns=['status', 'loan_id', 'account_id', \"unemploymant rate '95 \", 'card_type', 'name', 'operation_n_credit_card_withdrawal'], axis=1)\n",
    "y = df['status'].copy()\n",
    "best_score, best_params = ClassifierDecisionTree(X, y)"
   ]
  },
  {
   "source": [
    "### Gradient Boosting"
   ],
   "cell_type": "markdown",
   "metadata": {}
  },
  {
   "source": [
    "### 1993"
   ],
   "cell_type": "markdown",
   "metadata": {}
  },
  {
   "cell_type": "code",
   "execution_count": 5,
   "metadata": {
    "tags": []
   },
   "outputs": [
    {
     "output_type": "stream",
     "name": "stdout",
     "text": "Fitting 10 folds for each of 23328 candidates, totalling 233280 fits\n[Parallel(n_jobs=-1)]: Using backend LokyBackend with 8 concurrent workers.\n[Parallel(n_jobs=-1)]: Done  25 tasks      | elapsed:    9.2s\n[Parallel(n_jobs=-1)]: Done 158 tasks      | elapsed:   12.2s\n[Parallel(n_jobs=-1)]: Done 562 tasks      | elapsed:   19.1s\n[Parallel(n_jobs=-1)]: Done 1128 tasks      | elapsed:   25.5s\n[Parallel(n_jobs=-1)]: Done 1858 tasks      | elapsed:   34.1s\n[Parallel(n_jobs=-1)]: Done 2748 tasks      | elapsed:   45.9s\n[Parallel(n_jobs=-1)]: Done 3802 tasks      | elapsed:   59.1s\n[Parallel(n_jobs=-1)]: Done 5016 tasks      | elapsed:  1.2min\n[Parallel(n_jobs=-1)]: Done 6394 tasks      | elapsed:  1.5min\n[Parallel(n_jobs=-1)]: Done 7932 tasks      | elapsed:  1.8min\n[Parallel(n_jobs=-1)]: Done 9634 tasks      | elapsed:  2.1min\n[Parallel(n_jobs=-1)]: Done 11496 tasks      | elapsed:  2.4min\n[Parallel(n_jobs=-1)]: Done 14784 tasks      | elapsed:  3.1min\n[Parallel(n_jobs=-1)]: Done 23528 tasks      | elapsed:  4.2min\n[Parallel(n_jobs=-1)]: Done 29324 tasks      | elapsed:  5.4min\n[Parallel(n_jobs=-1)]: Done 34344 tasks      | elapsed:  6.6min\n[Parallel(n_jobs=-1)]: Done 39692 tasks      | elapsed:  8.0min\n[Parallel(n_jobs=-1)]: Done 45360 tasks      | elapsed:  8.8min\n[Parallel(n_jobs=-1)]: Done 51356 tasks      | elapsed:  9.7min\n[Parallel(n_jobs=-1)]: Done 57672 tasks      | elapsed: 11.0min\n[Parallel(n_jobs=-1)]: Done 64316 tasks      | elapsed: 12.3min\n[Parallel(n_jobs=-1)]: Done 71280 tasks      | elapsed: 13.1min\n[Parallel(n_jobs=-1)]: Done 78572 tasks      | elapsed: 13.8min\n[Parallel(n_jobs=-1)]: Done 86184 tasks      | elapsed: 15.4min\n[Parallel(n_jobs=-1)]: Done 94124 tasks      | elapsed: 16.8min\n[Parallel(n_jobs=-1)]: Done 102384 tasks      | elapsed: 17.9min\n[Parallel(n_jobs=-1)]: Done 110972 tasks      | elapsed: 19.6min\n[Parallel(n_jobs=-1)]: Done 119880 tasks      | elapsed: 21.3min\n[Parallel(n_jobs=-1)]: Done 129116 tasks      | elapsed: 22.4min\n[Parallel(n_jobs=-1)]: Done 138672 tasks      | elapsed: 24.7min\n[Parallel(n_jobs=-1)]: Done 148556 tasks      | elapsed: 26.3min\n[Parallel(n_jobs=-1)]: Done 158760 tasks      | elapsed: 28.1min\n[Parallel(n_jobs=-1)]: Done 169292 tasks      | elapsed: 30.2min\n[Parallel(n_jobs=-1)]: Done 180144 tasks      | elapsed: 31.6min\n[Parallel(n_jobs=-1)]: Done 191324 tasks      | elapsed: 33.9min\n[Parallel(n_jobs=-1)]: Done 202824 tasks      | elapsed: 35.6min\n[Parallel(n_jobs=-1)]: Done 214652 tasks      | elapsed: 38.2min\n[Parallel(n_jobs=-1)]: Done 226800 tasks      | elapsed: 40.8min\n[Parallel(n_jobs=-1)]: Done 233280 out of 233280 | elapsed: 41.8min finished\nBest Score: nan\nBest Parameters: {&#39;classification__criterion&#39;: &#39;friedman_mse&#39;, &#39;classification__learning_rate&#39;: 0.1, &#39;classification__loss&#39;: &#39;deviance&#39;, &#39;classification__max_depth&#39;: 2, &#39;classification__max_features&#39;: &#39;auto&#39;, &#39;classification__min_impurity_split&#39;: 0.05, &#39;classification__min_samples_leaf&#39;: 1, &#39;classification__min_samples_split&#39;: 2, &#39;classification__min_weight_fraction_leaf&#39;: 0, &#39;classification__n_estimators&#39;: 100, &#39;classification__subsample&#39;: 1}\n"
    }
   ],
   "source": [
    "df = original_loan_per_year[1993].copy()\n",
    "X = df.drop(columns=['status', 'loan_id', 'account_id', \"unemploymant rate '95 \", 'card_type', 'name', 'operation_n_credit_card_withdrawal'], axis=1)\n",
    "y = df['status'].copy()\n",
    "best_score, best_params = ClassifierGradientBoosting(X, y)"
   ]
  },
  {
   "source": [
    "#### 1993-1994"
   ],
   "cell_type": "markdown",
   "metadata": {}
  },
  {
   "cell_type": "code",
   "execution_count": null,
   "metadata": {
    "tags": []
   },
   "outputs": [],
   "source": [
    "df = pd.concat([original_loan_per_year[1993].copy(),original_loan_per_year[1994].copy()])\n",
    "X = df.drop(columns=['status', 'loan_id', 'account_id', \"unemploymant rate '95 \", 'card_type', 'name', 'operation_n_credit_card_withdrawal'], axis=1)\n",
    "y = df['status'].copy()\n",
    "best_score, best_params = ClassifierGradientBoosting(X, y)"
   ]
  },
  {
   "source": [
    "#### 1993-1995"
   ],
   "cell_type": "markdown",
   "metadata": {}
  },
  {
   "cell_type": "code",
   "execution_count": null,
   "metadata": {
    "tags": []
   },
   "outputs": [],
   "source": [
    "df = pd.concat([original_loan_per_year[1993].copy(),original_loan_per_year[1994].copy(),original_loan_per_year[1995]])\n",
    "X = df.drop(columns=['status', 'loan_id', 'account_id', \"unemploymant rate '95 \", 'card_type', 'name', 'operation_n_credit_card_withdrawal'], axis=1)\n",
    "y = df['status'].copy()\n",
    "best_score, best_params = ClassifierGradientBoosting(X, y)"
   ]
  },
  {
   "source": [
    "## Best Parameters"
   ],
   "cell_type": "markdown",
   "metadata": {}
  },
  {
   "source": [
    "### Decision Tree"
   ],
   "cell_type": "markdown",
   "metadata": {}
  },
  {
   "source": [
    "#### Train: 1993 | Test: 1994"
   ],
   "cell_type": "markdown",
   "metadata": {}
  },
  {
   "cell_type": "code",
   "execution_count": null,
   "metadata": {},
   "outputs": [],
   "source": [
    "model = DecisionTreeClassifier(class_weight=\"balanced\", criterion='gini', max_depth=2,max_features='auto', min_impurity_split=0.05, min_samples_leaf=1, min_samples_split=2, splitter='best')\n",
    "train = original_loan_per_year[1993].copy()\n",
    "test = original_loan_per_year[1994].copy()\n",
    "model_performance(model, train, test, normalize = True)"
   ]
  },
  {
   "source": [
    "#### Train: 1993-1994 | Test: 1995"
   ],
   "cell_type": "markdown",
   "metadata": {}
  },
  {
   "cell_type": "code",
   "execution_count": null,
   "metadata": {},
   "outputs": [],
   "source": [
    "model = DecisionTreeClassifier(class_weight=\"balanced\", criterion='gini', max_depth=2,max_features='auto', min_impurity_split=0.05, min_samples_leaf=1, min_samples_split=2, splitter='best')\n",
    "train = pd.concat([original_loan_per_year[1993].copy(),original_loan_per_year[1994].copy()])\n",
    "test = original_loan_per_year[1995].copy()\n",
    "model_performance(model, train, test, normalize = True)"
   ]
  },
  {
   "source": [
    "#### Train: 1993-1995 | Test: 1996"
   ],
   "cell_type": "markdown",
   "metadata": {}
  },
  {
   "cell_type": "code",
   "execution_count": null,
   "metadata": {},
   "outputs": [],
   "source": [
    "model = DecisionTreeClassifier(class_weight=\"balanced\", criterion='entropy', max_depth=8,max_features='auto', min_impurity_split=0.23, min_samples_leaf=1, min_samples_split=6, splitter='best')\n",
    "train = pd.concat([original_loan_per_year[1993].copy(),original_loan_per_year[1994].copy(),original_loan_per_year[1995].copy()])\n",
    "test = original_loan_per_year[1996].copy()\n",
    "model_performance(model, train, test, normalize = True)"
   ]
  },
  {
   "source": [
    "### Gradient Boosting"
   ],
   "cell_type": "markdown",
   "metadata": {}
  },
  {
   "source": [
    "#### Train: 1993 | Test: 1994"
   ],
   "cell_type": "markdown",
   "metadata": {}
  },
  {
   "cell_type": "code",
   "execution_count": 11,
   "metadata": {},
   "outputs": [
    {
     "output_type": "error",
     "ename": "NameError",
     "evalue": "name &#39;normalize_columns&#39; is not defined",
     "traceback": [
      "\u001b[0;31m---------------------------------------------------------------------------\u001b[0m",
      "\u001b[0;31mNameError\u001b[0m                                 Traceback (most recent call last)",
      "\u001b[0;32m&lt;ipython-input-11-b75050394b0e&gt;\u001b[0m in \u001b[0;36m&lt;module&gt;\u001b[0;34m\u001b[0m\n\u001b[1;32m      2\u001b[0m \u001b[0mtrain\u001b[0m \u001b[0;34m=\u001b[0m \u001b[0moriginal_loan_per_year\u001b[0m\u001b[0;34m[\u001b[0m\u001b[0;36m1993\u001b[0m\u001b[0;34m]\u001b[0m\u001b[0;34m.\u001b[0m\u001b[0mcopy\u001b[0m\u001b[0;34m(\u001b[0m\u001b[0;34m)\u001b[0m\u001b[0;34m\u001b[0m\u001b[0;34m\u001b[0m\u001b[0m\n\u001b[1;32m      3\u001b[0m \u001b[0mtest\u001b[0m \u001b[0;34m=\u001b[0m \u001b[0moriginal_loan_per_year\u001b[0m\u001b[0;34m[\u001b[0m\u001b[0;36m1994\u001b[0m\u001b[0;34m]\u001b[0m\u001b[0;34m.\u001b[0m\u001b[0mcopy\u001b[0m\u001b[0;34m(\u001b[0m\u001b[0;34m)\u001b[0m\u001b[0;34m\u001b[0m\u001b[0;34m\u001b[0m\u001b[0m\n\u001b[0;32m----&gt; 4\u001b[0;31m \u001b[0mmodel_performance\u001b[0m\u001b[0;34m(\u001b[0m\u001b[0mmodel\u001b[0m\u001b[0;34m,\u001b[0m \u001b[0mtrain\u001b[0m\u001b[0;34m,\u001b[0m \u001b[0mtest\u001b[0m\u001b[0;34m,\u001b[0m \u001b[0mnormalize\u001b[0m \u001b[0;34m=\u001b[0m \u001b[0;32mTrue\u001b[0m\u001b[0;34m)\u001b[0m\u001b[0;34m\u001b[0m\u001b[0;34m\u001b[0m\u001b[0m\n\u001b[0m",
      "\u001b[0;32m~/FEUP/ECAC/FEUP_ECAC/Model.py\u001b[0m in \u001b[0;36mmodel_performance\u001b[0;34m(model, train, test, normalize)\u001b[0m\n\u001b[1;32m    102\u001b[0m \u001b[0;34m\u001b[0m\u001b[0m\n\u001b[1;32m    103\u001b[0m     \u001b[0mX_test\u001b[0m \u001b[0;34m=\u001b[0m \u001b[0mtest\u001b[0m\u001b[0;34m.\u001b[0m\u001b[0mdrop\u001b[0m\u001b[0;34m(\u001b[0m\u001b[0mcolumns\u001b[0m\u001b[0;34m=\u001b[0m\u001b[0;34m[\u001b[0m\u001b[0;34m&#39;status&#39;\u001b[0m\u001b[0;34m,\u001b[0m \u001b[0;34m&#39;loan_id&#39;\u001b[0m\u001b[0;34m,\u001b[0m \u001b[0;34m&#39;account_id&#39;\u001b[0m\u001b[0;34m,\u001b[0m \u001b[0;34m&quot;unemploymant rate &#39;95 &quot;\u001b[0m\u001b[0;34m,\u001b[0m \u001b[0;34m&#39;card_type&#39;\u001b[0m\u001b[0;34m,\u001b[0m \u001b[0;34m&#39;name&#39;\u001b[0m\u001b[0;34m,\u001b[0m \u001b[0;34m&#39;operation_n_credit_card_withdrawal&#39;\u001b[0m\u001b[0;34m]\u001b[0m\u001b[0;34m,\u001b[0m \u001b[0maxis\u001b[0m\u001b[0;34m=\u001b[0m\u001b[0;36m1\u001b[0m\u001b[0;34m)\u001b[0m\u001b[0;34m\u001b[0m\u001b[0;34m\u001b[0m\u001b[0m\n\u001b[0;32m--&gt; 104\u001b[0;31m     \u001b[0my_test\u001b[0m \u001b[0;34m=\u001b[0m \u001b[0mtest\u001b[0m\u001b[0;34m[\u001b[0m\u001b[0;34m&#39;status&#39;\u001b[0m\u001b[0;34m]\u001b[0m\u001b[0;34m.\u001b[0m\u001b[0mcopy\u001b[0m\u001b[0;34m(\u001b[0m\u001b[0;34m)\u001b[0m\u001b[0;34m\u001b[0m\u001b[0;34m\u001b[0m\u001b[0m\n\u001b[0m\u001b[1;32m    105\u001b[0m     \u001b[0;32mif\u001b[0m \u001b[0mnormalize\u001b[0m\u001b[0;34m:\u001b[0m\u001b[0;34m\u001b[0m\u001b[0;34m\u001b[0m\u001b[0m\n\u001b[1;32m    106\u001b[0m         \u001b[0mnormalize_columns\u001b[0m\u001b[0;34m(\u001b[0m\u001b[0mX_train\u001b[0m\u001b[0;34m,\u001b[0m \u001b[0mX_train\u001b[0m\u001b[0;34m.\u001b[0m\u001b[0mcolumns\u001b[0m\u001b[0;34m)\u001b[0m\u001b[0;34m\u001b[0m\u001b[0;34m\u001b[0m\u001b[0m\n",
      "\u001b[0;31mNameError\u001b[0m: name &#39;normalize_columns&#39; is not defined"
     ]
    }
   ],
   "source": [
    "model = GradientBoostingClassifier(criterion='friendman_mse', learning_rate=0.1, loss='deviance', max_depth=2, max_features='auto', min_impurity_split=0.05, min_samples_leaf=1, min_samples_split=2, min_weight_fraction_leaf=0, n_estimators=100, subsample=1)\n",
    "train = original_loan_per_year[1993].copy()\n",
    "test = original_loan_per_year[1994].copy()\n",
    "model_performance(model, train, test, normalize = True)"
   ]
  },
  {
   "source": [
    "#### Train: 1993-1994 | Test: 1995"
   ],
   "cell_type": "markdown",
   "metadata": {}
  },
  {
   "cell_type": "code",
   "execution_count": null,
   "metadata": {},
   "outputs": [],
   "source": [
    "model = GradientBoostingClassifier()\n",
    "train = pd.concat([original_loan_per_year[1993].copy(),original_loan_per_year[1994].copy()])\n",
    "test = original_loan_per_year[1995].copy()\n",
    "model_performance(model, train, test, normalize = True)"
   ]
  },
  {
   "source": [
    "#### Train: 1993-1995 | Test: 1996"
   ],
   "cell_type": "markdown",
   "metadata": {}
  },
  {
   "cell_type": "code",
   "execution_count": null,
   "metadata": {},
   "outputs": [],
   "source": [
    "model = GradientBoostingClassifier()\n",
    "train = pd.concat([original_loan_per_year[1993].copy(),original_loan_per_year[1994].copy(),original_loan_per_year[1995].copy()])\n",
    "test = original_loan_per_year[1996].copy()\n",
    "model_performance(model, train, test, normalize = True)"
   ]
  },
  {
   "source": [
    "### Naive-Bayes"
   ],
   "cell_type": "markdown",
   "metadata": {}
  },
  {
   "source": [
    "#### Train: 1993 | Test: 1994"
   ],
   "cell_type": "markdown",
   "metadata": {}
  },
  {
   "cell_type": "code",
   "execution_count": null,
   "metadata": {},
   "outputs": [],
   "source": [
    "model = GaussianNB()\n",
    "train = original_loan_per_year[1993].copy()\n",
    "test = original_loan_per_year[1994].copy()"
   ]
  },
  {
   "source": [
    "#### Train: 1993-1994 | Test: 1995"
   ],
   "cell_type": "markdown",
   "metadata": {}
  },
  {
   "cell_type": "code",
   "execution_count": null,
   "metadata": {},
   "outputs": [],
   "source": [
    "model = GaussianNB()\n",
    "train = pd.concat([original_loan_per_year[1993].copy(),original_loan_per_year[1994].copy()])\n",
    "test = original_loan_per_year[1995].copy()\n"
   ]
  },
  {
   "source": [
    "#### Train: 1993-1995 | Test: 1996"
   ],
   "cell_type": "markdown",
   "metadata": {}
  },
  {
   "cell_type": "code",
   "execution_count": null,
   "metadata": {},
   "outputs": [],
   "source": [
    "model = GaussianNB()\n",
    "train = pd.concat([original_loan_per_year[1993].copy(),original_loan_per_year[1994].copy(), original_loan_per_year[1995].copy()])\n",
    "test = original_loan_per_year[1996].copy()"
   ]
  }
 ],
 "metadata": {
  "kernelspec": {
   "display_name": "Python 3",
   "language": "python",
   "name": "python3"
  },
  "language_info": {
   "codemirror_mode": {
    "name": "ipython",
    "version": 3
   },
   "file_extension": ".py",
   "mimetype": "text/x-python",
   "name": "python",
   "nbconvert_exporter": "python",
   "pygments_lexer": "ipython3",
   "version": "3.8.5-final"
  }
 },
 "nbformat": 4,
 "nbformat_minor": 4
}