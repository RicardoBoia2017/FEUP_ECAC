{
 "cells": [
  {
   "cell_type": "code",
   "execution_count": 1,
   "metadata": {},
   "outputs": [],
   "source": [
    "import pandas as pd\n",
    "import numpy as np\n",
    "import matplotlib.pyplot as plt\n",
    "import warnings\n",
    "import seaborn as sns\n",
    "from sqlalchemy import create_engine\n",
    "import sqlite3"
   ]
  },
  {
   "cell_type": "code",
   "execution_count": 2,
   "metadata": {},
   "outputs": [],
   "source": [
    "from os import walk, path\n",
    "dic_csv = {}\n",
    "        \n",
    "for root,d_names,f_names in walk(\"./data/\"):\n",
    "    for f in f_names:\n",
    "        filename = f.rsplit('.', 1)[0]\n",
    "        dic_csv[path.join(root, f)] = ('processed_' + filename) if ('processed' in root) else filename\n",
    "\n",
    "    "
   ]
  },
  {
   "cell_type": "code",
   "execution_count": 4,
   "metadata": {},
   "outputs": [
    {
     "name": "stderr",
     "output_type": "stream",
     "text": [
      "/usr/lib/python3.8/site-packages/IPython/core/interactiveshell.py:3337: DtypeWarning: Columns (8) have mixed types.Specify dtype option on import or set low_memory=False.\n",
      "  if (await self.run_code(code, result,  async_=asy)):\n"
     ]
    }
   ],
   "source": [
    "def make_df(dic):\n",
    "    for key in dic:\n",
    "        globals()[dic[key]] = pd.read_csv(key, delimiter=\";\")\n",
    "make_df(dic_csv)"
   ]
  },
  {
   "cell_type": "code",
   "execution_count": 16,
   "metadata": {},
   "outputs": [],
   "source": [
    "def separate(df, column):\n",
    "    list = df[column].unique().tolist()\n",
    "    dic = {}\n",
    "    for l in list:\n",
    "        dic[l] = df[df[column]==l]\n",
    "    return dic"
   ]
  },
  {
   "cell_type": "code",
   "execution_count": 31,
   "metadata": {},
   "outputs": [
    {
     "data": {
      "text/html": [
       "<div>\n",
       "<style scoped>\n",
       "    .dataframe tbody tr th:only-of-type {\n",
       "        vertical-align: middle;\n",
       "    }\n",
       "\n",
       "    .dataframe tbody tr th {\n",
       "        vertical-align: top;\n",
       "    }\n",
       "\n",
       "    .dataframe thead th {\n",
       "        text-align: right;\n",
       "    }\n",
       "</style>\n",
       "<table border=\"1\" class=\"dataframe\">\n",
       "  <thead>\n",
       "    <tr style=\"text-align: right;\">\n",
       "      <th></th>\n",
       "      <th>loan_id</th>\n",
       "      <th>account_id</th>\n",
       "      <th>date</th>\n",
       "      <th>amount</th>\n",
       "      <th>duration</th>\n",
       "      <th>payments</th>\n",
       "      <th>status</th>\n",
       "    </tr>\n",
       "  </thead>\n",
       "  <tbody>\n",
       "    <tr>\n",
       "      <th>0</th>\n",
       "      <td>5314</td>\n",
       "      <td>1787</td>\n",
       "      <td>930705</td>\n",
       "      <td>96396</td>\n",
       "      <td>12</td>\n",
       "      <td>8033</td>\n",
       "      <td>-1.0</td>\n",
       "    </tr>\n",
       "    <tr>\n",
       "      <th>1</th>\n",
       "      <td>5316</td>\n",
       "      <td>1801</td>\n",
       "      <td>930711</td>\n",
       "      <td>165960</td>\n",
       "      <td>36</td>\n",
       "      <td>4610</td>\n",
       "      <td>1.0</td>\n",
       "    </tr>\n",
       "    <tr>\n",
       "      <th>2</th>\n",
       "      <td>6863</td>\n",
       "      <td>9188</td>\n",
       "      <td>930728</td>\n",
       "      <td>127080</td>\n",
       "      <td>60</td>\n",
       "      <td>2118</td>\n",
       "      <td>1.0</td>\n",
       "    </tr>\n",
       "    <tr>\n",
       "      <th>3</th>\n",
       "      <td>5325</td>\n",
       "      <td>1843</td>\n",
       "      <td>930803</td>\n",
       "      <td>105804</td>\n",
       "      <td>36</td>\n",
       "      <td>2939</td>\n",
       "      <td>1.0</td>\n",
       "    </tr>\n",
       "    <tr>\n",
       "      <th>4</th>\n",
       "      <td>7240</td>\n",
       "      <td>11013</td>\n",
       "      <td>930906</td>\n",
       "      <td>274740</td>\n",
       "      <td>60</td>\n",
       "      <td>4579</td>\n",
       "      <td>1.0</td>\n",
       "    </tr>\n",
       "    <tr>\n",
       "      <th>...</th>\n",
       "      <td>...</td>\n",
       "      <td>...</td>\n",
       "      <td>...</td>\n",
       "      <td>...</td>\n",
       "      <td>...</td>\n",
       "      <td>...</td>\n",
       "      <td>...</td>\n",
       "    </tr>\n",
       "    <tr>\n",
       "      <th>349</th>\n",
       "      <td>4989</td>\n",
       "      <td>105</td>\n",
       "      <td>981205</td>\n",
       "      <td>352704</td>\n",
       "      <td>48</td>\n",
       "      <td>7348</td>\n",
       "      <td>NaN</td>\n",
       "    </tr>\n",
       "    <tr>\n",
       "      <th>350</th>\n",
       "      <td>5221</td>\n",
       "      <td>1284</td>\n",
       "      <td>981205</td>\n",
       "      <td>52512</td>\n",
       "      <td>12</td>\n",
       "      <td>4376</td>\n",
       "      <td>NaN</td>\n",
       "    </tr>\n",
       "    <tr>\n",
       "      <th>351</th>\n",
       "      <td>6402</td>\n",
       "      <td>6922</td>\n",
       "      <td>981206</td>\n",
       "      <td>139488</td>\n",
       "      <td>24</td>\n",
       "      <td>5812</td>\n",
       "      <td>NaN</td>\n",
       "    </tr>\n",
       "    <tr>\n",
       "      <th>352</th>\n",
       "      <td>5346</td>\n",
       "      <td>1928</td>\n",
       "      <td>981206</td>\n",
       "      <td>55632</td>\n",
       "      <td>24</td>\n",
       "      <td>2318</td>\n",
       "      <td>NaN</td>\n",
       "    </tr>\n",
       "    <tr>\n",
       "      <th>353</th>\n",
       "      <td>6748</td>\n",
       "      <td>8645</td>\n",
       "      <td>981208</td>\n",
       "      <td>240900</td>\n",
       "      <td>60</td>\n",
       "      <td>4015</td>\n",
       "      <td>NaN</td>\n",
       "    </tr>\n",
       "  </tbody>\n",
       "</table>\n",
       "<p>682 rows × 7 columns</p>\n",
       "</div>"
      ],
      "text/plain": [
       "     loan_id  account_id    date  amount  duration  payments  status\n",
       "0       5314        1787  930705   96396        12      8033    -1.0\n",
       "1       5316        1801  930711  165960        36      4610     1.0\n",
       "2       6863        9188  930728  127080        60      2118     1.0\n",
       "3       5325        1843  930803  105804        36      2939     1.0\n",
       "4       7240       11013  930906  274740        60      4579     1.0\n",
       "..       ...         ...     ...     ...       ...       ...     ...\n",
       "349     4989         105  981205  352704        48      7348     NaN\n",
       "350     5221        1284  981205   52512        12      4376     NaN\n",
       "351     6402        6922  981206  139488        24      5812     NaN\n",
       "352     5346        1928  981206   55632        24      2318     NaN\n",
       "353     6748        8645  981208  240900        60      4015     NaN\n",
       "\n",
       "[682 rows x 7 columns]"
      ]
     },
     "execution_count": 31,
     "metadata": {},
     "output_type": "execute_result"
    }
   ],
   "source": [
    "def concat_train_test(dic):\n",
    "    "
   ]
  },
  {
   "cell_type": "code",
   "execution_count": 42,
   "metadata": {},
   "outputs": [
    {
     "data": {
      "text/plain": [
       "[False, True, False, False, False, False, False, False, False, False]"
      ]
     },
     "execution_count": 42,
     "metadata": {},
     "output_type": "execute_result"
    }
   ],
   "source": [
    "l = list(dic_csv.values())\n",
    "#dd = [l for l in [ 'account' in dl dl for d]]\n",
    "dd = ['account' in d for d in l]\n",
    "dd"
   ]
  },
  {
   "cell_type": "code",
   "execution_count": 43,
   "metadata": {},
   "outputs": [
    {
     "data": {
      "text/plain": [
       "['client',\n",
       " 'account',\n",
       " 'trans_train',\n",
       " 'trans_test',\n",
       " 'loan_test',\n",
       " 'disp',\n",
       " 'district',\n",
       " 'card_test',\n",
       " 'loan_train',\n",
       " 'card_train']"
      ]
     },
     "execution_count": 43,
     "metadata": {},
     "output_type": "execute_result"
    }
   ],
   "source": [
    "l"
   ]
  },
  {
   "cell_type": "code",
   "execution_count": null,
   "metadata": {},
   "outputs": [],
   "source": [
    "def db():\n",
    "    CSV_files = {'account': account, 'card': card_train, 'client': client, 'disp': disp, 'disctrict': district, 'loan': loan_train, 'trans': trans_train}\n",
    "    conn = sqlite3.connect('database.db')\n",
    "    # Correr só uma vez\n",
    "    if not os.path.exists('./database.db'):\n",
    "        for f in CSV_files:\n",
    "            CSV_files[f].to_sql(f, conn)\n",
    "    query = \"\"\"\n",
    "        SELECT loan_id, loan.account_id, status\n",
    "        FROM loan, account\n",
    "        WHERE loan.account_id == account.account_id\n",
    "        \"\"\"\n",
    "         \n",
    "    pd.read_sql_query(query, conn)\n",
    "    \n",
    "def getCorr(df, size=(11,9)):\n",
    "    corr = df.corr()\n",
    "    ax = plt.subplots(figsize=size)\n",
    "    ax = sns.heatmap(corr,  annot = True, linewidths=.1, mask = np.triu(corr), cmap='coolwarm')\n",
    "\n",
    "    def checkUniqueCategoricalVars():\n",
    "    for f in CSV_files:\n",
    "        print(\"{}:\\n {}\\n\\n\".format(f, CSV_files[f].select_dtypes(include=['object']).nunique()))"
   ]
  }
 ],
 "metadata": {
  "kernelspec": {
   "display_name": "Python 3",
   "language": "python",
   "name": "python3"
  },
  "language_info": {
   "codemirror_mode": {
    "name": "ipython",
    "version": 3
   },
   "file_extension": ".py",
   "mimetype": "text/x-python",
   "name": "python",
   "nbconvert_exporter": "python",
   "pygments_lexer": "ipython3",
   "version": "3.8.5"
  }
 },
 "nbformat": 4,
 "nbformat_minor": 4
}
