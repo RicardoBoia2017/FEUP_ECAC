{
 "cells": [
  {
   "cell_type": "code",
   "execution_count": 1,
   "metadata": {},
   "outputs": [],
   "source": [
    "import pandas as pd\n",
    "import numpy as np\n",
    "import matplotlib.pyplot as plt\n",
    "import warnings\n",
    "import seaborn as sns\n",
    "from sqlalchemy import create_engine\n",
    "import sqlite3"
   ]
  },
  {
   "cell_type": "code",
   "execution_count": 27,
   "metadata": {},
   "outputs": [],
   "source": [
    "from os import walk, path\n",
    "dic_csv = {}\n",
    "        \n",
    "for root,d_names,f_names in walk(\"./data/\"):\n",
    "    for f in f_names:\n",
    "        filename = f.rsplit('.', 1)[0]\n",
    "        dic_csv[path.join(root, f)] = ('processed_' + filename) if ('processed' in root) else filename\n",
    "\n",
    "    "
   ]
  },
  {
   "cell_type": "code",
   "execution_count": 28,
   "metadata": {},
   "outputs": [
    {
     "data": {
      "text/plain": [
       "{'./data/client.csv': 'client',\n",
       " './data/account.csv': 'account',\n",
       " './data/trans_train.csv': 'trans_train',\n",
       " './data/trans_test.csv': 'trans_test',\n",
       " './data/loan_test.csv': 'loan_test',\n",
       " './data/disp.csv': 'disp',\n",
       " './data/district.csv': 'district',\n",
       " './data/card_test.csv': 'card_test',\n",
       " './data/loan_train.csv': 'loan_train',\n",
       " './data/card_train.csv': 'card_train',\n",
       " './data/processed/client.csv': 'processed_client',\n",
       " './data/processed/account.csv': 'processed_account',\n",
       " './data/processed/loans_train_merge.csv': 'processed_loans_train_merge',\n",
       " './data/processed/trans_train.csv': 'processed_trans_train',\n",
       " './data/processed/trans_test.csv': 'processed_trans_test',\n",
       " './data/processed/loan_test.csv': 'processed_loan_test',\n",
       " './data/processed/loan_train.csv': 'processed_loan_train',\n",
       " './data/processed/loans_test_merge.csv': 'processed_loans_test_merge'}"
      ]
     },
     "execution_count": 28,
     "metadata": {},
     "output_type": "execute_result"
    }
   ],
   "source": [
    "dic_csv"
   ]
  },
  {
   "cell_type": "code",
   "execution_count": 48,
   "metadata": {},
   "outputs": [],
   "source": [
    "def make_df(dic):\n",
    "    for key in dic:\n",
    "        globals()[dic[key]] = pd.read_csv(key, delimiter=\";\")"
   ]
  },
  {
   "cell_type": "code",
   "execution_count": 49,
   "metadata": {},
   "outputs": [
    {
     "name": "stderr",
     "output_type": "stream",
     "text": [
      "/usr/lib/python3.8/site-packages/IPython/core/interactiveshell.py:3337: DtypeWarning: Columns (8) have mixed types.Specify dtype option on import or set low_memory=False.\n",
      "  if (await self.run_code(code, result,  async_=asy)):\n"
     ]
    }
   ],
   "source": [
    "make_df(dic_csv)"
   ]
  },
  {
   "cell_type": "code",
   "execution_count": 53,
   "metadata": {},
   "outputs": [
    {
     "data": {
      "text/html": [
       "<div>\n",
       "<style scoped>\n",
       "    .dataframe tbody tr th:only-of-type {\n",
       "        vertical-align: middle;\n",
       "    }\n",
       "\n",
       "    .dataframe tbody tr th {\n",
       "        vertical-align: top;\n",
       "    }\n",
       "\n",
       "    .dataframe thead th {\n",
       "        text-align: right;\n",
       "    }\n",
       "</style>\n",
       "<table border=\"1\" class=\"dataframe\">\n",
       "  <thead>\n",
       "    <tr style=\"text-align: right;\">\n",
       "      <th></th>\n",
       "      <th>account_id</th>\n",
       "      <th>district_id</th>\n",
       "      <th>frequency</th>\n",
       "      <th>date</th>\n",
       "    </tr>\n",
       "  </thead>\n",
       "  <tbody>\n",
       "    <tr>\n",
       "      <th>0</th>\n",
       "      <td>576</td>\n",
       "      <td>55</td>\n",
       "      <td>monthly issuance</td>\n",
       "      <td>930101</td>\n",
       "    </tr>\n",
       "    <tr>\n",
       "      <th>1</th>\n",
       "      <td>3818</td>\n",
       "      <td>74</td>\n",
       "      <td>monthly issuance</td>\n",
       "      <td>930101</td>\n",
       "    </tr>\n",
       "    <tr>\n",
       "      <th>2</th>\n",
       "      <td>704</td>\n",
       "      <td>55</td>\n",
       "      <td>monthly issuance</td>\n",
       "      <td>930101</td>\n",
       "    </tr>\n",
       "    <tr>\n",
       "      <th>3</th>\n",
       "      <td>2378</td>\n",
       "      <td>16</td>\n",
       "      <td>monthly issuance</td>\n",
       "      <td>930101</td>\n",
       "    </tr>\n",
       "    <tr>\n",
       "      <th>4</th>\n",
       "      <td>2632</td>\n",
       "      <td>24</td>\n",
       "      <td>monthly issuance</td>\n",
       "      <td>930102</td>\n",
       "    </tr>\n",
       "    <tr>\n",
       "      <th>...</th>\n",
       "      <td>...</td>\n",
       "      <td>...</td>\n",
       "      <td>...</td>\n",
       "      <td>...</td>\n",
       "    </tr>\n",
       "    <tr>\n",
       "      <th>4495</th>\n",
       "      <td>124</td>\n",
       "      <td>55</td>\n",
       "      <td>monthly issuance</td>\n",
       "      <td>971228</td>\n",
       "    </tr>\n",
       "    <tr>\n",
       "      <th>4496</th>\n",
       "      <td>3958</td>\n",
       "      <td>59</td>\n",
       "      <td>monthly issuance</td>\n",
       "      <td>971228</td>\n",
       "    </tr>\n",
       "    <tr>\n",
       "      <th>4497</th>\n",
       "      <td>777</td>\n",
       "      <td>30</td>\n",
       "      <td>monthly issuance</td>\n",
       "      <td>971228</td>\n",
       "    </tr>\n",
       "    <tr>\n",
       "      <th>4498</th>\n",
       "      <td>1573</td>\n",
       "      <td>63</td>\n",
       "      <td>monthly issuance</td>\n",
       "      <td>971229</td>\n",
       "    </tr>\n",
       "    <tr>\n",
       "      <th>4499</th>\n",
       "      <td>3276</td>\n",
       "      <td>1</td>\n",
       "      <td>monthly issuance</td>\n",
       "      <td>971229</td>\n",
       "    </tr>\n",
       "  </tbody>\n",
       "</table>\n",
       "<p>4500 rows × 4 columns</p>\n",
       "</div>"
      ],
      "text/plain": [
       "      account_id  district_id         frequency    date\n",
       "0            576           55  monthly issuance  930101\n",
       "1           3818           74  monthly issuance  930101\n",
       "2            704           55  monthly issuance  930101\n",
       "3           2378           16  monthly issuance  930101\n",
       "4           2632           24  monthly issuance  930102\n",
       "...          ...          ...               ...     ...\n",
       "4495         124           55  monthly issuance  971228\n",
       "4496        3958           59  monthly issuance  971228\n",
       "4497         777           30  monthly issuance  971228\n",
       "4498        1573           63  monthly issuance  971229\n",
       "4499        3276            1  monthly issuance  971229\n",
       "\n",
       "[4500 rows x 4 columns]"
      ]
     },
     "execution_count": 53,
     "metadata": {},
     "output_type": "execute_result"
    }
   ],
   "source": [
    "account"
   ]
  },
  {
   "cell_type": "code",
   "execution_count": null,
   "metadata": {},
   "outputs": [],
   "source": [
    "account = pd.read_csv('data/account.csv', delimiter=\";\")\n",
    "card_test = pd.read_csv('data/card_test.csv', delimiter=\";\")\n",
    "card_train = pd.read_csv('data/card_train.csv', delimiter=\";\")\n",
    "client = pd.read_csv('data/client.csv', delimiter=\";\")\n",
    "disp = pd.read_csv('data/disp.csv', delimiter=\";\")\n",
    "district = pd.read_csv('data/district.csv', delimiter=\";\")\n",
    "loan_test = pd.read_csv('data/loan_test.csv', delimiter=\";\")\n",
    "loan_train = pd.read_csv('data/loan_train.csv', delimiter=\";\")\n",
    "trans_test = pd.read_csv('data/trans_test.csv', delimiter=\";\")\n",
    "trans_train = pd.read_csv('data/trans_train.csv', delimiter=\";\")"
   ]
  },
  {
   "cell_type": "code",
   "execution_count": null,
   "metadata": {},
   "outputs": [],
   "source": [
    "CSV_files = {'account': account, 'card': card_train, 'client': client, 'disp': disp, 'disctrict': district, 'loan': loan_train, 'trans': trans_train}\n",
    "conn = sqlite3.connect('database.db')"
   ]
  },
  {
   "cell_type": "code",
   "execution_count": null,
   "metadata": {},
   "outputs": [],
   "source": [
    "def getCorr(df, size=(11,9)):\n",
    "    corr = df.corr()\n",
    "    ax = plt.subplots(figsize=size)\n",
    "    ax = sns.heatmap(corr,  annot = True, linewidths=.1, mask = np.triu(corr), cmap='coolwarm')"
   ]
  },
  {
   "cell_type": "code",
   "execution_count": null,
   "metadata": {},
   "outputs": [],
   "source": [
    "def checkUniqueCategoricalVars():\n",
    "    for f in CSV_files:\n",
    "        print(\"{}:\\n {}\\n\\n\".format(f, CSV_files[f].select_dtypes(include=['object']).nunique()))"
   ]
  },
  {
   "cell_type": "code",
   "execution_count": null,
   "metadata": {},
   "outputs": [],
   "source": [
    "# Correr só uma vez\n",
    "for f in CSV_files:\n",
    "    CSV_files[f].to_sql(f, conn)"
   ]
  },
  {
   "cell_type": "code",
   "execution_count": null,
   "metadata": {},
   "outputs": [],
   "source": [
    "query = \"\"\"\n",
    "        SELECT loan_id, loan.account_id, status\n",
    "        FROM loan, account\n",
    "        WHERE loan.account_id == account.account_id\n",
    "        \"\"\"\n",
    "         \n",
    "pd.read_sql_query(query, conn)"
   ]
  },
  {
   "cell_type": "code",
   "execution_count": null,
   "metadata": {},
   "outputs": [],
   "source": [
    "query = \"\"\"\n",
    "        SELECT *\n",
    "        FROM account\n",
    "        \"\"\"\n",
    "         \n",
    "pd.read_sql_query(query, conn)"
   ]
  },
  {
   "cell_type": "code",
   "execution_count": null,
   "metadata": {},
   "outputs": [],
   "source": []
  }
 ],
 "metadata": {
  "kernelspec": {
   "display_name": "Python 3",
   "language": "python",
   "name": "python3"
  },
  "language_info": {
   "codemirror_mode": {
    "name": "ipython",
    "version": 3
   },
   "file_extension": ".py",
   "mimetype": "text/x-python",
   "name": "python",
   "nbconvert_exporter": "python",
   "pygments_lexer": "ipython3",
   "version": "3.8.5"
  }
 },
 "nbformat": 4,
 "nbformat_minor": 4
}
